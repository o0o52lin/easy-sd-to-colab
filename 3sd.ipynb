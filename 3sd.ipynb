from google.colab import drive
drive.mount('/content/drive')
!bash <(curl -sL https://raw.githubusercontent.com/o0o52lin/sd-template/main/3sd.sh) -l https://github.com/o0o52lin/sd-template -n sd-tpl
